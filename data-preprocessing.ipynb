{
 "cells": [
  {
   "cell_type": "markdown",
   "source": [
    "# Data Preprocessing"
   ],
   "metadata": {
    "collapsed": false
   },
   "id": "221a641fc4f8ab4b"
  },
  {
   "cell_type": "markdown",
   "source": [
    "## Data Overview"
   ],
   "metadata": {
    "collapsed": false
   },
   "id": "22a5943d36e4be1"
  },
  {
   "cell_type": "code",
   "id": "initial_id",
   "metadata": {
    "collapsed": true,
    "ExecuteTime": {
     "end_time": "2024-11-16T20:32:35.878802Z",
     "start_time": "2024-11-16T20:32:34.553357Z"
    }
   },
   "source": [
    "import pandas as pd\n",
    "data = pd.read_csv(\"train.csv\")\n",
    "test = pd.read_csv(\"test.csv\")\n",
    "data"
   ],
   "outputs": [
    {
     "data": {
      "text/plain": [
       "            id      Name  Gender   Age           City  \\\n",
       "0            0  Aaradhya  Female  49.0       Ludhiana   \n",
       "1            1     Vivan    Male  26.0       Varanasi   \n",
       "2            2    Yuvraj    Male  33.0  Visakhapatnam   \n",
       "3            3    Yuvraj    Male  22.0         Mumbai   \n",
       "4            4      Rhea  Female  30.0         Kanpur   \n",
       "...        ...       ...     ...   ...            ...   \n",
       "140695  140695     Vidya  Female  18.0      Ahmedabad   \n",
       "140696  140696      Lata  Female  41.0      Hyderabad   \n",
       "140697  140697   Aanchal  Female  24.0        Kolkata   \n",
       "140698  140698    Prachi  Female  49.0       Srinagar   \n",
       "140699  140699       Sai    Male  27.0          Patna   \n",
       "\n",
       "       Working Professional or Student         Profession  Academic Pressure  \\\n",
       "0                 Working Professional               Chef                NaN   \n",
       "1                 Working Professional            Teacher                NaN   \n",
       "2                              Student                NaN                5.0   \n",
       "3                 Working Professional            Teacher                NaN   \n",
       "4                 Working Professional   Business Analyst                NaN   \n",
       "...                                ...                ...                ...   \n",
       "140695            Working Professional                NaN                NaN   \n",
       "140696            Working Professional     Content Writer                NaN   \n",
       "140697            Working Professional  Marketing Manager                NaN   \n",
       "140698            Working Professional            Plumber                NaN   \n",
       "140699                         Student                NaN                4.0   \n",
       "\n",
       "        Work Pressure  CGPA  Study Satisfaction  Job Satisfaction  \\\n",
       "0                 5.0   NaN                 NaN               2.0   \n",
       "1                 4.0   NaN                 NaN               3.0   \n",
       "2                 NaN  8.97                 2.0               NaN   \n",
       "3                 5.0   NaN                 NaN               1.0   \n",
       "4                 1.0   NaN                 NaN               1.0   \n",
       "...               ...   ...                 ...               ...   \n",
       "140695            5.0   NaN                 NaN               4.0   \n",
       "140696            5.0   NaN                 NaN               4.0   \n",
       "140697            3.0   NaN                 NaN               1.0   \n",
       "140698            5.0   NaN                 NaN               2.0   \n",
       "140699            NaN  9.24                 1.0               NaN   \n",
       "\n",
       "           Sleep Duration Dietary Habits    Degree  \\\n",
       "0       More than 8 hours        Healthy       BHM   \n",
       "1       Less than 5 hours      Unhealthy       LLB   \n",
       "2               5-6 hours        Healthy   B.Pharm   \n",
       "3       Less than 5 hours       Moderate       BBA   \n",
       "4               5-6 hours      Unhealthy       BBA   \n",
       "...                   ...            ...       ...   \n",
       "140695          5-6 hours      Unhealthy  Class 12   \n",
       "140696          7-8 hours       Moderate    B.Tech   \n",
       "140697  More than 8 hours       Moderate     B.Com   \n",
       "140698          5-6 hours       Moderate        ME   \n",
       "140699  Less than 5 hours        Healthy       BCA   \n",
       "\n",
       "       Have you ever had suicidal thoughts ?  Work/Study Hours  \\\n",
       "0                                         No               1.0   \n",
       "1                                        Yes               7.0   \n",
       "2                                        Yes               3.0   \n",
       "3                                        Yes              10.0   \n",
       "4                                        Yes               9.0   \n",
       "...                                      ...               ...   \n",
       "140695                                    No               2.0   \n",
       "140696                                   Yes               6.0   \n",
       "140697                                    No               4.0   \n",
       "140698                                   Yes              10.0   \n",
       "140699                                   Yes               2.0   \n",
       "\n",
       "        Financial Stress Family History of Mental Illness  Depression  \n",
       "0                    2.0                               No           0  \n",
       "1                    3.0                               No           1  \n",
       "2                    1.0                               No           1  \n",
       "3                    1.0                              Yes           1  \n",
       "4                    4.0                              Yes           0  \n",
       "...                  ...                              ...         ...  \n",
       "140695               4.0                              Yes           1  \n",
       "140696               5.0                              Yes           0  \n",
       "140697               4.0                               No           0  \n",
       "140698               1.0                               No           0  \n",
       "140699               3.0                              Yes           1  \n",
       "\n",
       "[140700 rows x 20 columns]"
      ],
      "text/html": [
       "<div>\n",
       "<style scoped>\n",
       "    .dataframe tbody tr th:only-of-type {\n",
       "        vertical-align: middle;\n",
       "    }\n",
       "\n",
       "    .dataframe tbody tr th {\n",
       "        vertical-align: top;\n",
       "    }\n",
       "\n",
       "    .dataframe thead th {\n",
       "        text-align: right;\n",
       "    }\n",
       "</style>\n",
       "<table border=\"1\" class=\"dataframe\">\n",
       "  <thead>\n",
       "    <tr style=\"text-align: right;\">\n",
       "      <th></th>\n",
       "      <th>id</th>\n",
       "      <th>Name</th>\n",
       "      <th>Gender</th>\n",
       "      <th>Age</th>\n",
       "      <th>City</th>\n",
       "      <th>Working Professional or Student</th>\n",
       "      <th>Profession</th>\n",
       "      <th>Academic Pressure</th>\n",
       "      <th>Work Pressure</th>\n",
       "      <th>CGPA</th>\n",
       "      <th>Study Satisfaction</th>\n",
       "      <th>Job Satisfaction</th>\n",
       "      <th>Sleep Duration</th>\n",
       "      <th>Dietary Habits</th>\n",
       "      <th>Degree</th>\n",
       "      <th>Have you ever had suicidal thoughts ?</th>\n",
       "      <th>Work/Study Hours</th>\n",
       "      <th>Financial Stress</th>\n",
       "      <th>Family History of Mental Illness</th>\n",
       "      <th>Depression</th>\n",
       "    </tr>\n",
       "  </thead>\n",
       "  <tbody>\n",
       "    <tr>\n",
       "      <th>0</th>\n",
       "      <td>0</td>\n",
       "      <td>Aaradhya</td>\n",
       "      <td>Female</td>\n",
       "      <td>49.0</td>\n",
       "      <td>Ludhiana</td>\n",
       "      <td>Working Professional</td>\n",
       "      <td>Chef</td>\n",
       "      <td>NaN</td>\n",
       "      <td>5.0</td>\n",
       "      <td>NaN</td>\n",
       "      <td>NaN</td>\n",
       "      <td>2.0</td>\n",
       "      <td>More than 8 hours</td>\n",
       "      <td>Healthy</td>\n",
       "      <td>BHM</td>\n",
       "      <td>No</td>\n",
       "      <td>1.0</td>\n",
       "      <td>2.0</td>\n",
       "      <td>No</td>\n",
       "      <td>0</td>\n",
       "    </tr>\n",
       "    <tr>\n",
       "      <th>1</th>\n",
       "      <td>1</td>\n",
       "      <td>Vivan</td>\n",
       "      <td>Male</td>\n",
       "      <td>26.0</td>\n",
       "      <td>Varanasi</td>\n",
       "      <td>Working Professional</td>\n",
       "      <td>Teacher</td>\n",
       "      <td>NaN</td>\n",
       "      <td>4.0</td>\n",
       "      <td>NaN</td>\n",
       "      <td>NaN</td>\n",
       "      <td>3.0</td>\n",
       "      <td>Less than 5 hours</td>\n",
       "      <td>Unhealthy</td>\n",
       "      <td>LLB</td>\n",
       "      <td>Yes</td>\n",
       "      <td>7.0</td>\n",
       "      <td>3.0</td>\n",
       "      <td>No</td>\n",
       "      <td>1</td>\n",
       "    </tr>\n",
       "    <tr>\n",
       "      <th>2</th>\n",
       "      <td>2</td>\n",
       "      <td>Yuvraj</td>\n",
       "      <td>Male</td>\n",
       "      <td>33.0</td>\n",
       "      <td>Visakhapatnam</td>\n",
       "      <td>Student</td>\n",
       "      <td>NaN</td>\n",
       "      <td>5.0</td>\n",
       "      <td>NaN</td>\n",
       "      <td>8.97</td>\n",
       "      <td>2.0</td>\n",
       "      <td>NaN</td>\n",
       "      <td>5-6 hours</td>\n",
       "      <td>Healthy</td>\n",
       "      <td>B.Pharm</td>\n",
       "      <td>Yes</td>\n",
       "      <td>3.0</td>\n",
       "      <td>1.0</td>\n",
       "      <td>No</td>\n",
       "      <td>1</td>\n",
       "    </tr>\n",
       "    <tr>\n",
       "      <th>3</th>\n",
       "      <td>3</td>\n",
       "      <td>Yuvraj</td>\n",
       "      <td>Male</td>\n",
       "      <td>22.0</td>\n",
       "      <td>Mumbai</td>\n",
       "      <td>Working Professional</td>\n",
       "      <td>Teacher</td>\n",
       "      <td>NaN</td>\n",
       "      <td>5.0</td>\n",
       "      <td>NaN</td>\n",
       "      <td>NaN</td>\n",
       "      <td>1.0</td>\n",
       "      <td>Less than 5 hours</td>\n",
       "      <td>Moderate</td>\n",
       "      <td>BBA</td>\n",
       "      <td>Yes</td>\n",
       "      <td>10.0</td>\n",
       "      <td>1.0</td>\n",
       "      <td>Yes</td>\n",
       "      <td>1</td>\n",
       "    </tr>\n",
       "    <tr>\n",
       "      <th>4</th>\n",
       "      <td>4</td>\n",
       "      <td>Rhea</td>\n",
       "      <td>Female</td>\n",
       "      <td>30.0</td>\n",
       "      <td>Kanpur</td>\n",
       "      <td>Working Professional</td>\n",
       "      <td>Business Analyst</td>\n",
       "      <td>NaN</td>\n",
       "      <td>1.0</td>\n",
       "      <td>NaN</td>\n",
       "      <td>NaN</td>\n",
       "      <td>1.0</td>\n",
       "      <td>5-6 hours</td>\n",
       "      <td>Unhealthy</td>\n",
       "      <td>BBA</td>\n",
       "      <td>Yes</td>\n",
       "      <td>9.0</td>\n",
       "      <td>4.0</td>\n",
       "      <td>Yes</td>\n",
       "      <td>0</td>\n",
       "    </tr>\n",
       "    <tr>\n",
       "      <th>...</th>\n",
       "      <td>...</td>\n",
       "      <td>...</td>\n",
       "      <td>...</td>\n",
       "      <td>...</td>\n",
       "      <td>...</td>\n",
       "      <td>...</td>\n",
       "      <td>...</td>\n",
       "      <td>...</td>\n",
       "      <td>...</td>\n",
       "      <td>...</td>\n",
       "      <td>...</td>\n",
       "      <td>...</td>\n",
       "      <td>...</td>\n",
       "      <td>...</td>\n",
       "      <td>...</td>\n",
       "      <td>...</td>\n",
       "      <td>...</td>\n",
       "      <td>...</td>\n",
       "      <td>...</td>\n",
       "      <td>...</td>\n",
       "    </tr>\n",
       "    <tr>\n",
       "      <th>140695</th>\n",
       "      <td>140695</td>\n",
       "      <td>Vidya</td>\n",
       "      <td>Female</td>\n",
       "      <td>18.0</td>\n",
       "      <td>Ahmedabad</td>\n",
       "      <td>Working Professional</td>\n",
       "      <td>NaN</td>\n",
       "      <td>NaN</td>\n",
       "      <td>5.0</td>\n",
       "      <td>NaN</td>\n",
       "      <td>NaN</td>\n",
       "      <td>4.0</td>\n",
       "      <td>5-6 hours</td>\n",
       "      <td>Unhealthy</td>\n",
       "      <td>Class 12</td>\n",
       "      <td>No</td>\n",
       "      <td>2.0</td>\n",
       "      <td>4.0</td>\n",
       "      <td>Yes</td>\n",
       "      <td>1</td>\n",
       "    </tr>\n",
       "    <tr>\n",
       "      <th>140696</th>\n",
       "      <td>140696</td>\n",
       "      <td>Lata</td>\n",
       "      <td>Female</td>\n",
       "      <td>41.0</td>\n",
       "      <td>Hyderabad</td>\n",
       "      <td>Working Professional</td>\n",
       "      <td>Content Writer</td>\n",
       "      <td>NaN</td>\n",
       "      <td>5.0</td>\n",
       "      <td>NaN</td>\n",
       "      <td>NaN</td>\n",
       "      <td>4.0</td>\n",
       "      <td>7-8 hours</td>\n",
       "      <td>Moderate</td>\n",
       "      <td>B.Tech</td>\n",
       "      <td>Yes</td>\n",
       "      <td>6.0</td>\n",
       "      <td>5.0</td>\n",
       "      <td>Yes</td>\n",
       "      <td>0</td>\n",
       "    </tr>\n",
       "    <tr>\n",
       "      <th>140697</th>\n",
       "      <td>140697</td>\n",
       "      <td>Aanchal</td>\n",
       "      <td>Female</td>\n",
       "      <td>24.0</td>\n",
       "      <td>Kolkata</td>\n",
       "      <td>Working Professional</td>\n",
       "      <td>Marketing Manager</td>\n",
       "      <td>NaN</td>\n",
       "      <td>3.0</td>\n",
       "      <td>NaN</td>\n",
       "      <td>NaN</td>\n",
       "      <td>1.0</td>\n",
       "      <td>More than 8 hours</td>\n",
       "      <td>Moderate</td>\n",
       "      <td>B.Com</td>\n",
       "      <td>No</td>\n",
       "      <td>4.0</td>\n",
       "      <td>4.0</td>\n",
       "      <td>No</td>\n",
       "      <td>0</td>\n",
       "    </tr>\n",
       "    <tr>\n",
       "      <th>140698</th>\n",
       "      <td>140698</td>\n",
       "      <td>Prachi</td>\n",
       "      <td>Female</td>\n",
       "      <td>49.0</td>\n",
       "      <td>Srinagar</td>\n",
       "      <td>Working Professional</td>\n",
       "      <td>Plumber</td>\n",
       "      <td>NaN</td>\n",
       "      <td>5.0</td>\n",
       "      <td>NaN</td>\n",
       "      <td>NaN</td>\n",
       "      <td>2.0</td>\n",
       "      <td>5-6 hours</td>\n",
       "      <td>Moderate</td>\n",
       "      <td>ME</td>\n",
       "      <td>Yes</td>\n",
       "      <td>10.0</td>\n",
       "      <td>1.0</td>\n",
       "      <td>No</td>\n",
       "      <td>0</td>\n",
       "    </tr>\n",
       "    <tr>\n",
       "      <th>140699</th>\n",
       "      <td>140699</td>\n",
       "      <td>Sai</td>\n",
       "      <td>Male</td>\n",
       "      <td>27.0</td>\n",
       "      <td>Patna</td>\n",
       "      <td>Student</td>\n",
       "      <td>NaN</td>\n",
       "      <td>4.0</td>\n",
       "      <td>NaN</td>\n",
       "      <td>9.24</td>\n",
       "      <td>1.0</td>\n",
       "      <td>NaN</td>\n",
       "      <td>Less than 5 hours</td>\n",
       "      <td>Healthy</td>\n",
       "      <td>BCA</td>\n",
       "      <td>Yes</td>\n",
       "      <td>2.0</td>\n",
       "      <td>3.0</td>\n",
       "      <td>Yes</td>\n",
       "      <td>1</td>\n",
       "    </tr>\n",
       "  </tbody>\n",
       "</table>\n",
       "<p>140700 rows × 20 columns</p>\n",
       "</div>"
      ]
     },
     "execution_count": 10,
     "metadata": {},
     "output_type": "execute_result"
    }
   ],
   "execution_count": 10
  },
  {
   "cell_type": "code",
   "source": [
    "data.describe()"
   ],
   "metadata": {
    "collapsed": false,
    "ExecuteTime": {
     "end_time": "2024-11-16T20:29:01.560261Z",
     "start_time": "2024-11-16T20:29:00.937264Z"
    }
   },
   "id": "f616a38dfa27be1",
   "outputs": [
    {
     "data": {
      "text/plain": [
       "                  id            Age  Academic Pressure  Work Pressure  \\\n",
       "count  140700.000000  140700.000000       27897.000000  112782.000000   \n",
       "mean    70349.500000      40.388621           3.142273       2.998998   \n",
       "std     40616.735775      12.384099           1.380457       1.405771   \n",
       "min         0.000000      18.000000           1.000000       1.000000   \n",
       "25%     35174.750000      29.000000           2.000000       2.000000   \n",
       "50%     70349.500000      42.000000           3.000000       3.000000   \n",
       "75%    105524.250000      51.000000           4.000000       4.000000   \n",
       "max    140699.000000      60.000000           5.000000       5.000000   \n",
       "\n",
       "               CGPA  Study Satisfaction  Job Satisfaction  Work/Study Hours  \\\n",
       "count  27898.000000        27897.000000     112790.000000     140700.000000   \n",
       "mean       7.658636            2.944940          2.974404          6.252679   \n",
       "std        1.464466            1.360197          1.416078          3.853615   \n",
       "min        5.030000            1.000000          1.000000          0.000000   \n",
       "25%        6.290000            2.000000          2.000000          3.000000   \n",
       "50%        7.770000            3.000000          3.000000          6.000000   \n",
       "75%        8.920000            4.000000          4.000000         10.000000   \n",
       "max       10.000000            5.000000          5.000000         12.000000   \n",
       "\n",
       "       Financial Stress     Depression  \n",
       "count     140696.000000  140700.000000  \n",
       "mean           2.988983       0.181713  \n",
       "std            1.413633       0.385609  \n",
       "min            1.000000       0.000000  \n",
       "25%            2.000000       0.000000  \n",
       "50%            3.000000       0.000000  \n",
       "75%            4.000000       0.000000  \n",
       "max            5.000000       1.000000  "
      ],
      "text/html": [
       "<div>\n",
       "<style scoped>\n",
       "    .dataframe tbody tr th:only-of-type {\n",
       "        vertical-align: middle;\n",
       "    }\n",
       "\n",
       "    .dataframe tbody tr th {\n",
       "        vertical-align: top;\n",
       "    }\n",
       "\n",
       "    .dataframe thead th {\n",
       "        text-align: right;\n",
       "    }\n",
       "</style>\n",
       "<table border=\"1\" class=\"dataframe\">\n",
       "  <thead>\n",
       "    <tr style=\"text-align: right;\">\n",
       "      <th></th>\n",
       "      <th>id</th>\n",
       "      <th>Age</th>\n",
       "      <th>Academic Pressure</th>\n",
       "      <th>Work Pressure</th>\n",
       "      <th>CGPA</th>\n",
       "      <th>Study Satisfaction</th>\n",
       "      <th>Job Satisfaction</th>\n",
       "      <th>Work/Study Hours</th>\n",
       "      <th>Financial Stress</th>\n",
       "      <th>Depression</th>\n",
       "    </tr>\n",
       "  </thead>\n",
       "  <tbody>\n",
       "    <tr>\n",
       "      <th>count</th>\n",
       "      <td>140700.000000</td>\n",
       "      <td>140700.000000</td>\n",
       "      <td>27897.000000</td>\n",
       "      <td>112782.000000</td>\n",
       "      <td>27898.000000</td>\n",
       "      <td>27897.000000</td>\n",
       "      <td>112790.000000</td>\n",
       "      <td>140700.000000</td>\n",
       "      <td>140696.000000</td>\n",
       "      <td>140700.000000</td>\n",
       "    </tr>\n",
       "    <tr>\n",
       "      <th>mean</th>\n",
       "      <td>70349.500000</td>\n",
       "      <td>40.388621</td>\n",
       "      <td>3.142273</td>\n",
       "      <td>2.998998</td>\n",
       "      <td>7.658636</td>\n",
       "      <td>2.944940</td>\n",
       "      <td>2.974404</td>\n",
       "      <td>6.252679</td>\n",
       "      <td>2.988983</td>\n",
       "      <td>0.181713</td>\n",
       "    </tr>\n",
       "    <tr>\n",
       "      <th>std</th>\n",
       "      <td>40616.735775</td>\n",
       "      <td>12.384099</td>\n",
       "      <td>1.380457</td>\n",
       "      <td>1.405771</td>\n",
       "      <td>1.464466</td>\n",
       "      <td>1.360197</td>\n",
       "      <td>1.416078</td>\n",
       "      <td>3.853615</td>\n",
       "      <td>1.413633</td>\n",
       "      <td>0.385609</td>\n",
       "    </tr>\n",
       "    <tr>\n",
       "      <th>min</th>\n",
       "      <td>0.000000</td>\n",
       "      <td>18.000000</td>\n",
       "      <td>1.000000</td>\n",
       "      <td>1.000000</td>\n",
       "      <td>5.030000</td>\n",
       "      <td>1.000000</td>\n",
       "      <td>1.000000</td>\n",
       "      <td>0.000000</td>\n",
       "      <td>1.000000</td>\n",
       "      <td>0.000000</td>\n",
       "    </tr>\n",
       "    <tr>\n",
       "      <th>25%</th>\n",
       "      <td>35174.750000</td>\n",
       "      <td>29.000000</td>\n",
       "      <td>2.000000</td>\n",
       "      <td>2.000000</td>\n",
       "      <td>6.290000</td>\n",
       "      <td>2.000000</td>\n",
       "      <td>2.000000</td>\n",
       "      <td>3.000000</td>\n",
       "      <td>2.000000</td>\n",
       "      <td>0.000000</td>\n",
       "    </tr>\n",
       "    <tr>\n",
       "      <th>50%</th>\n",
       "      <td>70349.500000</td>\n",
       "      <td>42.000000</td>\n",
       "      <td>3.000000</td>\n",
       "      <td>3.000000</td>\n",
       "      <td>7.770000</td>\n",
       "      <td>3.000000</td>\n",
       "      <td>3.000000</td>\n",
       "      <td>6.000000</td>\n",
       "      <td>3.000000</td>\n",
       "      <td>0.000000</td>\n",
       "    </tr>\n",
       "    <tr>\n",
       "      <th>75%</th>\n",
       "      <td>105524.250000</td>\n",
       "      <td>51.000000</td>\n",
       "      <td>4.000000</td>\n",
       "      <td>4.000000</td>\n",
       "      <td>8.920000</td>\n",
       "      <td>4.000000</td>\n",
       "      <td>4.000000</td>\n",
       "      <td>10.000000</td>\n",
       "      <td>4.000000</td>\n",
       "      <td>0.000000</td>\n",
       "    </tr>\n",
       "    <tr>\n",
       "      <th>max</th>\n",
       "      <td>140699.000000</td>\n",
       "      <td>60.000000</td>\n",
       "      <td>5.000000</td>\n",
       "      <td>5.000000</td>\n",
       "      <td>10.000000</td>\n",
       "      <td>5.000000</td>\n",
       "      <td>5.000000</td>\n",
       "      <td>12.000000</td>\n",
       "      <td>5.000000</td>\n",
       "      <td>1.000000</td>\n",
       "    </tr>\n",
       "  </tbody>\n",
       "</table>\n",
       "</div>"
      ]
     },
     "execution_count": 2,
     "metadata": {},
     "output_type": "execute_result"
    }
   ],
   "execution_count": 2
  },
  {
   "cell_type": "code",
   "source": [
    "data.groupby(\"City\").agg({'Depression': ['mean', 'count']}).sort_values((\"Depression\", \"mean\"), ascending=False)"
   ],
   "metadata": {
    "collapsed": false,
    "ExecuteTime": {
     "end_time": "2024-11-16T20:29:01.970785Z",
     "start_time": "2024-11-16T20:29:01.829778Z"
    }
   },
   "id": "acee109754473514",
   "outputs": [
    {
     "data": {
      "text/plain": [
       "          Depression      \n",
       "                mean count\n",
       "City                      \n",
       "3.0              1.0     1\n",
       "Mira             1.0     1\n",
       "Ishanabad        1.0     1\n",
       "Khaziabad        1.0     1\n",
       "Gaurav           1.0     1\n",
       "...              ...   ...\n",
       "Anvi             0.0     1\n",
       "Nalyan           0.0     1\n",
       "Nandini          0.0     4\n",
       "Kagan            0.0     1\n",
       "Galesabad        0.0     1\n",
       "\n",
       "[98 rows x 2 columns]"
      ],
      "text/html": [
       "<div>\n",
       "<style scoped>\n",
       "    .dataframe tbody tr th:only-of-type {\n",
       "        vertical-align: middle;\n",
       "    }\n",
       "\n",
       "    .dataframe tbody tr th {\n",
       "        vertical-align: top;\n",
       "    }\n",
       "\n",
       "    .dataframe thead tr th {\n",
       "        text-align: left;\n",
       "    }\n",
       "\n",
       "    .dataframe thead tr:last-of-type th {\n",
       "        text-align: right;\n",
       "    }\n",
       "</style>\n",
       "<table border=\"1\" class=\"dataframe\">\n",
       "  <thead>\n",
       "    <tr>\n",
       "      <th></th>\n",
       "      <th colspan=\"2\" halign=\"left\">Depression</th>\n",
       "    </tr>\n",
       "    <tr>\n",
       "      <th></th>\n",
       "      <th>mean</th>\n",
       "      <th>count</th>\n",
       "    </tr>\n",
       "    <tr>\n",
       "      <th>City</th>\n",
       "      <th></th>\n",
       "      <th></th>\n",
       "    </tr>\n",
       "  </thead>\n",
       "  <tbody>\n",
       "    <tr>\n",
       "      <th>3.0</th>\n",
       "      <td>1.0</td>\n",
       "      <td>1</td>\n",
       "    </tr>\n",
       "    <tr>\n",
       "      <th>Mira</th>\n",
       "      <td>1.0</td>\n",
       "      <td>1</td>\n",
       "    </tr>\n",
       "    <tr>\n",
       "      <th>Ishanabad</th>\n",
       "      <td>1.0</td>\n",
       "      <td>1</td>\n",
       "    </tr>\n",
       "    <tr>\n",
       "      <th>Khaziabad</th>\n",
       "      <td>1.0</td>\n",
       "      <td>1</td>\n",
       "    </tr>\n",
       "    <tr>\n",
       "      <th>Gaurav</th>\n",
       "      <td>1.0</td>\n",
       "      <td>1</td>\n",
       "    </tr>\n",
       "    <tr>\n",
       "      <th>...</th>\n",
       "      <td>...</td>\n",
       "      <td>...</td>\n",
       "    </tr>\n",
       "    <tr>\n",
       "      <th>Anvi</th>\n",
       "      <td>0.0</td>\n",
       "      <td>1</td>\n",
       "    </tr>\n",
       "    <tr>\n",
       "      <th>Nalyan</th>\n",
       "      <td>0.0</td>\n",
       "      <td>1</td>\n",
       "    </tr>\n",
       "    <tr>\n",
       "      <th>Nandini</th>\n",
       "      <td>0.0</td>\n",
       "      <td>4</td>\n",
       "    </tr>\n",
       "    <tr>\n",
       "      <th>Kagan</th>\n",
       "      <td>0.0</td>\n",
       "      <td>1</td>\n",
       "    </tr>\n",
       "    <tr>\n",
       "      <th>Galesabad</th>\n",
       "      <td>0.0</td>\n",
       "      <td>1</td>\n",
       "    </tr>\n",
       "  </tbody>\n",
       "</table>\n",
       "<p>98 rows × 2 columns</p>\n",
       "</div>"
      ]
     },
     "execution_count": 3,
     "metadata": {},
     "output_type": "execute_result"
    }
   ],
   "execution_count": 3
  },
  {
   "cell_type": "code",
   "source": [
    "data.groupby(\"Profession\").agg({'Depression': ['mean', 'count']}).sort_values((\"Depression\", \"mean\"), ascending=False)"
   ],
   "metadata": {
    "collapsed": false,
    "ExecuteTime": {
     "end_time": "2024-11-16T20:29:02.781780Z",
     "start_time": "2024-11-16T20:29:02.711801Z"
    }
   },
   "id": "488b4730671447a2",
   "outputs": [
    {
     "data": {
      "text/plain": [
       "                 Depression      \n",
       "                       mean count\n",
       "Profession                       \n",
       "Moderate           1.000000     1\n",
       "Yogesh             0.666667     3\n",
       "Unemployed         0.333333     3\n",
       "Graphic Designer   0.185727  1163\n",
       "Judge              0.108645  1712\n",
       "...                     ...   ...\n",
       "MBA                0.000000     2\n",
       "MBBS               0.000000     1\n",
       "Medical Doctor     0.000000     1\n",
       "Nagpur             0.000000     1\n",
       "Yuvraj             0.000000     1\n",
       "\n",
       "[64 rows x 2 columns]"
      ],
      "text/html": [
       "<div>\n",
       "<style scoped>\n",
       "    .dataframe tbody tr th:only-of-type {\n",
       "        vertical-align: middle;\n",
       "    }\n",
       "\n",
       "    .dataframe tbody tr th {\n",
       "        vertical-align: top;\n",
       "    }\n",
       "\n",
       "    .dataframe thead tr th {\n",
       "        text-align: left;\n",
       "    }\n",
       "\n",
       "    .dataframe thead tr:last-of-type th {\n",
       "        text-align: right;\n",
       "    }\n",
       "</style>\n",
       "<table border=\"1\" class=\"dataframe\">\n",
       "  <thead>\n",
       "    <tr>\n",
       "      <th></th>\n",
       "      <th colspan=\"2\" halign=\"left\">Depression</th>\n",
       "    </tr>\n",
       "    <tr>\n",
       "      <th></th>\n",
       "      <th>mean</th>\n",
       "      <th>count</th>\n",
       "    </tr>\n",
       "    <tr>\n",
       "      <th>Profession</th>\n",
       "      <th></th>\n",
       "      <th></th>\n",
       "    </tr>\n",
       "  </thead>\n",
       "  <tbody>\n",
       "    <tr>\n",
       "      <th>Moderate</th>\n",
       "      <td>1.000000</td>\n",
       "      <td>1</td>\n",
       "    </tr>\n",
       "    <tr>\n",
       "      <th>Yogesh</th>\n",
       "      <td>0.666667</td>\n",
       "      <td>3</td>\n",
       "    </tr>\n",
       "    <tr>\n",
       "      <th>Unemployed</th>\n",
       "      <td>0.333333</td>\n",
       "      <td>3</td>\n",
       "    </tr>\n",
       "    <tr>\n",
       "      <th>Graphic Designer</th>\n",
       "      <td>0.185727</td>\n",
       "      <td>1163</td>\n",
       "    </tr>\n",
       "    <tr>\n",
       "      <th>Judge</th>\n",
       "      <td>0.108645</td>\n",
       "      <td>1712</td>\n",
       "    </tr>\n",
       "    <tr>\n",
       "      <th>...</th>\n",
       "      <td>...</td>\n",
       "      <td>...</td>\n",
       "    </tr>\n",
       "    <tr>\n",
       "      <th>MBA</th>\n",
       "      <td>0.000000</td>\n",
       "      <td>2</td>\n",
       "    </tr>\n",
       "    <tr>\n",
       "      <th>MBBS</th>\n",
       "      <td>0.000000</td>\n",
       "      <td>1</td>\n",
       "    </tr>\n",
       "    <tr>\n",
       "      <th>Medical Doctor</th>\n",
       "      <td>0.000000</td>\n",
       "      <td>1</td>\n",
       "    </tr>\n",
       "    <tr>\n",
       "      <th>Nagpur</th>\n",
       "      <td>0.000000</td>\n",
       "      <td>1</td>\n",
       "    </tr>\n",
       "    <tr>\n",
       "      <th>Yuvraj</th>\n",
       "      <td>0.000000</td>\n",
       "      <td>1</td>\n",
       "    </tr>\n",
       "  </tbody>\n",
       "</table>\n",
       "<p>64 rows × 2 columns</p>\n",
       "</div>"
      ]
     },
     "execution_count": 4,
     "metadata": {},
     "output_type": "execute_result"
    }
   ],
   "execution_count": 4
  },
  {
   "cell_type": "code",
   "source": [
    "data.pivot_table(index=\"Profession\", columns=\"Gender\",\n",
    "                 aggfunc={'Depression': ['mean', 'count']}).sort_values((\"Depression\",\"count\", 'Male'), ascending=False)"
   ],
   "metadata": {
    "collapsed": false,
    "ExecuteTime": {
     "end_time": "2024-11-16T20:29:04.052777Z",
     "start_time": "2024-11-16T20:29:03.876782Z"
    }
   },
   "id": "65208c95285a78fe",
   "outputs": [
    {
     "data": {
      "text/plain": [
       "                     Depression                             \n",
       "                          count               mean          \n",
       "Gender                   Female     Male    Female      Male\n",
       "Profession                                                  \n",
       "Teacher                 11220.0  13686.0  0.055615  0.055677\n",
       "Content Writer           3657.0   4157.0  0.017501  0.019726\n",
       "Architect                1950.0   2420.0  0.095385  0.102066\n",
       "Consultant               1814.0   2415.0  0.045755  0.048033\n",
       "Pharmacist               1611.0   2282.0  0.027933  0.025855\n",
       "...                         ...      ...       ...       ...\n",
       "Moderate                    1.0      NaN  1.000000       NaN\n",
       "Nagpur                      1.0      NaN  0.000000       NaN\n",
       "Patna                       1.0      NaN  0.000000       NaN\n",
       "Unveil                      1.0      NaN  0.000000       NaN\n",
       "Working Professional        1.0      NaN  0.000000       NaN\n",
       "\n",
       "[64 rows x 4 columns]"
      ],
      "text/html": [
       "<div>\n",
       "<style scoped>\n",
       "    .dataframe tbody tr th:only-of-type {\n",
       "        vertical-align: middle;\n",
       "    }\n",
       "\n",
       "    .dataframe tbody tr th {\n",
       "        vertical-align: top;\n",
       "    }\n",
       "\n",
       "    .dataframe thead tr th {\n",
       "        text-align: left;\n",
       "    }\n",
       "\n",
       "    .dataframe thead tr:last-of-type th {\n",
       "        text-align: right;\n",
       "    }\n",
       "</style>\n",
       "<table border=\"1\" class=\"dataframe\">\n",
       "  <thead>\n",
       "    <tr>\n",
       "      <th></th>\n",
       "      <th colspan=\"4\" halign=\"left\">Depression</th>\n",
       "    </tr>\n",
       "    <tr>\n",
       "      <th></th>\n",
       "      <th colspan=\"2\" halign=\"left\">count</th>\n",
       "      <th colspan=\"2\" halign=\"left\">mean</th>\n",
       "    </tr>\n",
       "    <tr>\n",
       "      <th>Gender</th>\n",
       "      <th>Female</th>\n",
       "      <th>Male</th>\n",
       "      <th>Female</th>\n",
       "      <th>Male</th>\n",
       "    </tr>\n",
       "    <tr>\n",
       "      <th>Profession</th>\n",
       "      <th></th>\n",
       "      <th></th>\n",
       "      <th></th>\n",
       "      <th></th>\n",
       "    </tr>\n",
       "  </thead>\n",
       "  <tbody>\n",
       "    <tr>\n",
       "      <th>Teacher</th>\n",
       "      <td>11220.0</td>\n",
       "      <td>13686.0</td>\n",
       "      <td>0.055615</td>\n",
       "      <td>0.055677</td>\n",
       "    </tr>\n",
       "    <tr>\n",
       "      <th>Content Writer</th>\n",
       "      <td>3657.0</td>\n",
       "      <td>4157.0</td>\n",
       "      <td>0.017501</td>\n",
       "      <td>0.019726</td>\n",
       "    </tr>\n",
       "    <tr>\n",
       "      <th>Architect</th>\n",
       "      <td>1950.0</td>\n",
       "      <td>2420.0</td>\n",
       "      <td>0.095385</td>\n",
       "      <td>0.102066</td>\n",
       "    </tr>\n",
       "    <tr>\n",
       "      <th>Consultant</th>\n",
       "      <td>1814.0</td>\n",
       "      <td>2415.0</td>\n",
       "      <td>0.045755</td>\n",
       "      <td>0.048033</td>\n",
       "    </tr>\n",
       "    <tr>\n",
       "      <th>Pharmacist</th>\n",
       "      <td>1611.0</td>\n",
       "      <td>2282.0</td>\n",
       "      <td>0.027933</td>\n",
       "      <td>0.025855</td>\n",
       "    </tr>\n",
       "    <tr>\n",
       "      <th>...</th>\n",
       "      <td>...</td>\n",
       "      <td>...</td>\n",
       "      <td>...</td>\n",
       "      <td>...</td>\n",
       "    </tr>\n",
       "    <tr>\n",
       "      <th>Moderate</th>\n",
       "      <td>1.0</td>\n",
       "      <td>NaN</td>\n",
       "      <td>1.000000</td>\n",
       "      <td>NaN</td>\n",
       "    </tr>\n",
       "    <tr>\n",
       "      <th>Nagpur</th>\n",
       "      <td>1.0</td>\n",
       "      <td>NaN</td>\n",
       "      <td>0.000000</td>\n",
       "      <td>NaN</td>\n",
       "    </tr>\n",
       "    <tr>\n",
       "      <th>Patna</th>\n",
       "      <td>1.0</td>\n",
       "      <td>NaN</td>\n",
       "      <td>0.000000</td>\n",
       "      <td>NaN</td>\n",
       "    </tr>\n",
       "    <tr>\n",
       "      <th>Unveil</th>\n",
       "      <td>1.0</td>\n",
       "      <td>NaN</td>\n",
       "      <td>0.000000</td>\n",
       "      <td>NaN</td>\n",
       "    </tr>\n",
       "    <tr>\n",
       "      <th>Working Professional</th>\n",
       "      <td>1.0</td>\n",
       "      <td>NaN</td>\n",
       "      <td>0.000000</td>\n",
       "      <td>NaN</td>\n",
       "    </tr>\n",
       "  </tbody>\n",
       "</table>\n",
       "<p>64 rows × 4 columns</p>\n",
       "</div>"
      ]
     },
     "execution_count": 5,
     "metadata": {},
     "output_type": "execute_result"
    }
   ],
   "execution_count": 5
  },
  {
   "cell_type": "code",
   "source": [
    "data.groupby(\"Sleep Duration\").agg({'Depression': ['mean', 'count']}).sort_values((\"Depression\", \"mean\"), ascending=False)"
   ],
   "metadata": {
    "collapsed": false,
    "ExecuteTime": {
     "end_time": "2024-11-16T20:29:05.844784Z",
     "start_time": "2024-11-16T20:29:05.760783Z"
    }
   },
   "id": "4e083158fb84093f",
   "outputs": [
    {
     "data": {
      "text/plain": [
       "                  Depression       \n",
       "                        mean  count\n",
       "Sleep Duration                     \n",
       "55-66 hours         1.000000      1\n",
       "10-11 hours         1.000000      2\n",
       "8 hours             1.000000      1\n",
       "40-45 hours         1.000000      1\n",
       "8-9 hours           0.500000      2\n",
       "6-7 hours           0.250000      8\n",
       "Less than 5 hours   0.234659  38784\n",
       "2-3 hours           0.200000      5\n",
       "4-6 hours           0.200000      5\n",
       "7-8 hours           0.178339  36969\n",
       "5-6 hours           0.165578  32142\n",
       "4-5 hours           0.142857      7\n",
       "More than 8 hours   0.138697  32726\n",
       "3-4 hours           0.083333     12\n",
       "1-2 hours           0.000000      1\n",
       "Indore              0.000000      1\n",
       "No                  0.000000      4\n",
       "Moderate            0.000000      1\n",
       "9-5 hours           0.000000      1\n",
       "Pune                0.000000      1\n",
       "Sleep_Duration      0.000000      2\n",
       "Unhealthy           0.000000      2\n",
       "Work_Study_Hours    0.000000      1\n",
       "9-6 hours           0.000000      1\n",
       "6-8 hours           0.000000      4\n",
       "9-5                 0.000000      1\n",
       "9-11 hours          0.000000      2\n",
       "1-3 hours           0.000000      1\n",
       "49 hours            0.000000      1\n",
       "45-48 hours         0.000000      1\n",
       "45                  0.000000      2\n",
       "35-36 hours         0.000000      1\n",
       "3-6 hours           0.000000      1\n",
       "10-6 hours          0.000000      1\n",
       "1-6 hours           0.000000      4\n",
       "than 5 hours        0.000000      1"
      ],
      "text/html": [
       "<div>\n",
       "<style scoped>\n",
       "    .dataframe tbody tr th:only-of-type {\n",
       "        vertical-align: middle;\n",
       "    }\n",
       "\n",
       "    .dataframe tbody tr th {\n",
       "        vertical-align: top;\n",
       "    }\n",
       "\n",
       "    .dataframe thead tr th {\n",
       "        text-align: left;\n",
       "    }\n",
       "\n",
       "    .dataframe thead tr:last-of-type th {\n",
       "        text-align: right;\n",
       "    }\n",
       "</style>\n",
       "<table border=\"1\" class=\"dataframe\">\n",
       "  <thead>\n",
       "    <tr>\n",
       "      <th></th>\n",
       "      <th colspan=\"2\" halign=\"left\">Depression</th>\n",
       "    </tr>\n",
       "    <tr>\n",
       "      <th></th>\n",
       "      <th>mean</th>\n",
       "      <th>count</th>\n",
       "    </tr>\n",
       "    <tr>\n",
       "      <th>Sleep Duration</th>\n",
       "      <th></th>\n",
       "      <th></th>\n",
       "    </tr>\n",
       "  </thead>\n",
       "  <tbody>\n",
       "    <tr>\n",
       "      <th>55-66 hours</th>\n",
       "      <td>1.000000</td>\n",
       "      <td>1</td>\n",
       "    </tr>\n",
       "    <tr>\n",
       "      <th>10-11 hours</th>\n",
       "      <td>1.000000</td>\n",
       "      <td>2</td>\n",
       "    </tr>\n",
       "    <tr>\n",
       "      <th>8 hours</th>\n",
       "      <td>1.000000</td>\n",
       "      <td>1</td>\n",
       "    </tr>\n",
       "    <tr>\n",
       "      <th>40-45 hours</th>\n",
       "      <td>1.000000</td>\n",
       "      <td>1</td>\n",
       "    </tr>\n",
       "    <tr>\n",
       "      <th>8-9 hours</th>\n",
       "      <td>0.500000</td>\n",
       "      <td>2</td>\n",
       "    </tr>\n",
       "    <tr>\n",
       "      <th>6-7 hours</th>\n",
       "      <td>0.250000</td>\n",
       "      <td>8</td>\n",
       "    </tr>\n",
       "    <tr>\n",
       "      <th>Less than 5 hours</th>\n",
       "      <td>0.234659</td>\n",
       "      <td>38784</td>\n",
       "    </tr>\n",
       "    <tr>\n",
       "      <th>2-3 hours</th>\n",
       "      <td>0.200000</td>\n",
       "      <td>5</td>\n",
       "    </tr>\n",
       "    <tr>\n",
       "      <th>4-6 hours</th>\n",
       "      <td>0.200000</td>\n",
       "      <td>5</td>\n",
       "    </tr>\n",
       "    <tr>\n",
       "      <th>7-8 hours</th>\n",
       "      <td>0.178339</td>\n",
       "      <td>36969</td>\n",
       "    </tr>\n",
       "    <tr>\n",
       "      <th>5-6 hours</th>\n",
       "      <td>0.165578</td>\n",
       "      <td>32142</td>\n",
       "    </tr>\n",
       "    <tr>\n",
       "      <th>4-5 hours</th>\n",
       "      <td>0.142857</td>\n",
       "      <td>7</td>\n",
       "    </tr>\n",
       "    <tr>\n",
       "      <th>More than 8 hours</th>\n",
       "      <td>0.138697</td>\n",
       "      <td>32726</td>\n",
       "    </tr>\n",
       "    <tr>\n",
       "      <th>3-4 hours</th>\n",
       "      <td>0.083333</td>\n",
       "      <td>12</td>\n",
       "    </tr>\n",
       "    <tr>\n",
       "      <th>1-2 hours</th>\n",
       "      <td>0.000000</td>\n",
       "      <td>1</td>\n",
       "    </tr>\n",
       "    <tr>\n",
       "      <th>Indore</th>\n",
       "      <td>0.000000</td>\n",
       "      <td>1</td>\n",
       "    </tr>\n",
       "    <tr>\n",
       "      <th>No</th>\n",
       "      <td>0.000000</td>\n",
       "      <td>4</td>\n",
       "    </tr>\n",
       "    <tr>\n",
       "      <th>Moderate</th>\n",
       "      <td>0.000000</td>\n",
       "      <td>1</td>\n",
       "    </tr>\n",
       "    <tr>\n",
       "      <th>9-5 hours</th>\n",
       "      <td>0.000000</td>\n",
       "      <td>1</td>\n",
       "    </tr>\n",
       "    <tr>\n",
       "      <th>Pune</th>\n",
       "      <td>0.000000</td>\n",
       "      <td>1</td>\n",
       "    </tr>\n",
       "    <tr>\n",
       "      <th>Sleep_Duration</th>\n",
       "      <td>0.000000</td>\n",
       "      <td>2</td>\n",
       "    </tr>\n",
       "    <tr>\n",
       "      <th>Unhealthy</th>\n",
       "      <td>0.000000</td>\n",
       "      <td>2</td>\n",
       "    </tr>\n",
       "    <tr>\n",
       "      <th>Work_Study_Hours</th>\n",
       "      <td>0.000000</td>\n",
       "      <td>1</td>\n",
       "    </tr>\n",
       "    <tr>\n",
       "      <th>9-6 hours</th>\n",
       "      <td>0.000000</td>\n",
       "      <td>1</td>\n",
       "    </tr>\n",
       "    <tr>\n",
       "      <th>6-8 hours</th>\n",
       "      <td>0.000000</td>\n",
       "      <td>4</td>\n",
       "    </tr>\n",
       "    <tr>\n",
       "      <th>9-5</th>\n",
       "      <td>0.000000</td>\n",
       "      <td>1</td>\n",
       "    </tr>\n",
       "    <tr>\n",
       "      <th>9-11 hours</th>\n",
       "      <td>0.000000</td>\n",
       "      <td>2</td>\n",
       "    </tr>\n",
       "    <tr>\n",
       "      <th>1-3 hours</th>\n",
       "      <td>0.000000</td>\n",
       "      <td>1</td>\n",
       "    </tr>\n",
       "    <tr>\n",
       "      <th>49 hours</th>\n",
       "      <td>0.000000</td>\n",
       "      <td>1</td>\n",
       "    </tr>\n",
       "    <tr>\n",
       "      <th>45-48 hours</th>\n",
       "      <td>0.000000</td>\n",
       "      <td>1</td>\n",
       "    </tr>\n",
       "    <tr>\n",
       "      <th>45</th>\n",
       "      <td>0.000000</td>\n",
       "      <td>2</td>\n",
       "    </tr>\n",
       "    <tr>\n",
       "      <th>35-36 hours</th>\n",
       "      <td>0.000000</td>\n",
       "      <td>1</td>\n",
       "    </tr>\n",
       "    <tr>\n",
       "      <th>3-6 hours</th>\n",
       "      <td>0.000000</td>\n",
       "      <td>1</td>\n",
       "    </tr>\n",
       "    <tr>\n",
       "      <th>10-6 hours</th>\n",
       "      <td>0.000000</td>\n",
       "      <td>1</td>\n",
       "    </tr>\n",
       "    <tr>\n",
       "      <th>1-6 hours</th>\n",
       "      <td>0.000000</td>\n",
       "      <td>4</td>\n",
       "    </tr>\n",
       "    <tr>\n",
       "      <th>than 5 hours</th>\n",
       "      <td>0.000000</td>\n",
       "      <td>1</td>\n",
       "    </tr>\n",
       "  </tbody>\n",
       "</table>\n",
       "</div>"
      ]
     },
     "execution_count": 6,
     "metadata": {},
     "output_type": "execute_result"
    }
   ],
   "execution_count": 6
  },
  {
   "cell_type": "code",
   "source": [
    "data.groupby(\"Academic Pressure\").agg({'Depression': ['mean', 'count']}).sort_values((\"Depression\", \"mean\"), ascending=False)"
   ],
   "metadata": {
    "collapsed": false,
    "ExecuteTime": {
     "end_time": "2024-11-16T20:29:06.444777Z",
     "start_time": "2024-11-16T20:29:06.400779Z"
    }
   },
   "id": "e499dd8e0caa2db0",
   "outputs": [
    {
     "data": {
      "text/plain": [
       "                  Depression      \n",
       "                        mean count\n",
       "Academic Pressure                 \n",
       "5.0                 0.860864  6296\n",
       "4.0                 0.761342  5158\n",
       "3.0                 0.601635  7463\n",
       "2.0                 0.374970  4179\n",
       "1.0                 0.194126  4801"
      ],
      "text/html": [
       "<div>\n",
       "<style scoped>\n",
       "    .dataframe tbody tr th:only-of-type {\n",
       "        vertical-align: middle;\n",
       "    }\n",
       "\n",
       "    .dataframe tbody tr th {\n",
       "        vertical-align: top;\n",
       "    }\n",
       "\n",
       "    .dataframe thead tr th {\n",
       "        text-align: left;\n",
       "    }\n",
       "\n",
       "    .dataframe thead tr:last-of-type th {\n",
       "        text-align: right;\n",
       "    }\n",
       "</style>\n",
       "<table border=\"1\" class=\"dataframe\">\n",
       "  <thead>\n",
       "    <tr>\n",
       "      <th></th>\n",
       "      <th colspan=\"2\" halign=\"left\">Depression</th>\n",
       "    </tr>\n",
       "    <tr>\n",
       "      <th></th>\n",
       "      <th>mean</th>\n",
       "      <th>count</th>\n",
       "    </tr>\n",
       "    <tr>\n",
       "      <th>Academic Pressure</th>\n",
       "      <th></th>\n",
       "      <th></th>\n",
       "    </tr>\n",
       "  </thead>\n",
       "  <tbody>\n",
       "    <tr>\n",
       "      <th>5.0</th>\n",
       "      <td>0.860864</td>\n",
       "      <td>6296</td>\n",
       "    </tr>\n",
       "    <tr>\n",
       "      <th>4.0</th>\n",
       "      <td>0.761342</td>\n",
       "      <td>5158</td>\n",
       "    </tr>\n",
       "    <tr>\n",
       "      <th>3.0</th>\n",
       "      <td>0.601635</td>\n",
       "      <td>7463</td>\n",
       "    </tr>\n",
       "    <tr>\n",
       "      <th>2.0</th>\n",
       "      <td>0.374970</td>\n",
       "      <td>4179</td>\n",
       "    </tr>\n",
       "    <tr>\n",
       "      <th>1.0</th>\n",
       "      <td>0.194126</td>\n",
       "      <td>4801</td>\n",
       "    </tr>\n",
       "  </tbody>\n",
       "</table>\n",
       "</div>"
      ]
     },
     "execution_count": 7,
     "metadata": {},
     "output_type": "execute_result"
    }
   ],
   "execution_count": 7
  },
  {
   "cell_type": "code",
   "source": [
    "data.groupby(\"Work Pressure\").agg({'Depression': ['mean', 'count']}).sort_values((\"Depression\", \"mean\"), ascending=False)"
   ],
   "metadata": {
    "collapsed": false,
    "ExecuteTime": {
     "end_time": "2024-11-16T20:29:07.700781Z",
     "start_time": "2024-11-16T20:29:07.629782Z"
    }
   },
   "id": "5d6487b8d2425a4",
   "outputs": [
    {
     "data": {
      "text/plain": [
       "              Depression       \n",
       "                    mean  count\n",
       "Work Pressure                  \n",
       "5.0             0.196113  22436\n",
       "4.0             0.104789  22512\n",
       "3.0             0.054386  21899\n",
       "2.0             0.032290  24373\n",
       "1.0             0.022493  21562"
      ],
      "text/html": [
       "<div>\n",
       "<style scoped>\n",
       "    .dataframe tbody tr th:only-of-type {\n",
       "        vertical-align: middle;\n",
       "    }\n",
       "\n",
       "    .dataframe tbody tr th {\n",
       "        vertical-align: top;\n",
       "    }\n",
       "\n",
       "    .dataframe thead tr th {\n",
       "        text-align: left;\n",
       "    }\n",
       "\n",
       "    .dataframe thead tr:last-of-type th {\n",
       "        text-align: right;\n",
       "    }\n",
       "</style>\n",
       "<table border=\"1\" class=\"dataframe\">\n",
       "  <thead>\n",
       "    <tr>\n",
       "      <th></th>\n",
       "      <th colspan=\"2\" halign=\"left\">Depression</th>\n",
       "    </tr>\n",
       "    <tr>\n",
       "      <th></th>\n",
       "      <th>mean</th>\n",
       "      <th>count</th>\n",
       "    </tr>\n",
       "    <tr>\n",
       "      <th>Work Pressure</th>\n",
       "      <th></th>\n",
       "      <th></th>\n",
       "    </tr>\n",
       "  </thead>\n",
       "  <tbody>\n",
       "    <tr>\n",
       "      <th>5.0</th>\n",
       "      <td>0.196113</td>\n",
       "      <td>22436</td>\n",
       "    </tr>\n",
       "    <tr>\n",
       "      <th>4.0</th>\n",
       "      <td>0.104789</td>\n",
       "      <td>22512</td>\n",
       "    </tr>\n",
       "    <tr>\n",
       "      <th>3.0</th>\n",
       "      <td>0.054386</td>\n",
       "      <td>21899</td>\n",
       "    </tr>\n",
       "    <tr>\n",
       "      <th>2.0</th>\n",
       "      <td>0.032290</td>\n",
       "      <td>24373</td>\n",
       "    </tr>\n",
       "    <tr>\n",
       "      <th>1.0</th>\n",
       "      <td>0.022493</td>\n",
       "      <td>21562</td>\n",
       "    </tr>\n",
       "  </tbody>\n",
       "</table>\n",
       "</div>"
      ]
     },
     "execution_count": 8,
     "metadata": {},
     "output_type": "execute_result"
    }
   ],
   "execution_count": 8
  },
  {
   "metadata": {},
   "cell_type": "markdown",
   "source": "## Handling missing values",
   "id": "5015ffecc8529545"
  },
  {
   "cell_type": "code",
   "source": "data.isnull().sum()",
   "metadata": {
    "collapsed": false,
    "ExecuteTime": {
     "end_time": "2024-11-16T20:48:03.844472Z",
     "start_time": "2024-11-16T20:48:03.502274Z"
    }
   },
   "id": "d8894bce608ca7b1",
   "outputs": [
    {
     "data": {
      "text/plain": [
       "id                                            0\n",
       "Name                                          0\n",
       "Gender                                        0\n",
       "Age                                           0\n",
       "City                                          0\n",
       "Working Professional or Student               0\n",
       "Profession                                36626\n",
       "Academic Pressure                        112802\n",
       "Work Pressure                             27915\n",
       "CGPA                                     112801\n",
       "Study Satisfaction                       112802\n",
       "Job Satisfaction                          27907\n",
       "Sleep Duration                                0\n",
       "Dietary Habits                                0\n",
       "Degree                                        0\n",
       "Have you ever had suicidal thoughts ?         0\n",
       "Work/Study Hours                              0\n",
       "Financial Stress                              0\n",
       "Family History of Mental Illness              0\n",
       "Depression                                    0\n",
       "dtype: int64"
      ]
     },
     "execution_count": 27,
     "metadata": {},
     "output_type": "execute_result"
    }
   ],
   "execution_count": 27
  },
  {
   "metadata": {
    "ExecuteTime": {
     "end_time": "2024-11-16T21:23:07.731622Z",
     "start_time": "2024-11-16T21:23:07.577629Z"
    }
   },
   "cell_type": "code",
   "source": "test.isnull().sum()",
   "id": "a6fee1a241a9308e",
   "outputs": [
    {
     "data": {
      "text/plain": [
       "id                                       0\n",
       "Gender                                   0\n",
       "Age                                      0\n",
       "City                                     0\n",
       "Working Professional or Student          0\n",
       "Profession                               0\n",
       "Academic Pressure                        0\n",
       "Work Pressure                            0\n",
       "CGPA                                     0\n",
       "Study Satisfaction                       0\n",
       "Job Satisfaction                         0\n",
       "Sleep Duration                           0\n",
       "Dietary Habits                           0\n",
       "Degree                                   0\n",
       "Have you ever had suicidal thoughts ?    0\n",
       "Work/Study Hours                         0\n",
       "Financial Stress                         0\n",
       "Family History of Mental Illness         0\n",
       "Is_Expected_Job                          0\n",
       "dtype: int64"
      ]
     },
     "execution_count": 45,
     "metadata": {},
     "output_type": "execute_result"
    }
   ],
   "execution_count": 45
  },
  {
   "metadata": {
    "ExecuteTime": {
     "end_time": "2024-11-16T20:37:06.567987Z",
     "start_time": "2024-11-16T20:37:06.491988Z"
    }
   },
   "cell_type": "code",
   "source": [
    "# in data i will drop the lines that have NA in  Financial Stress\n",
    "data = data.dropna(subset=\"Financial Stress\")"
   ],
   "id": "453cdfb0ad3b9eb1",
   "outputs": [],
   "execution_count": 14
  },
  {
   "metadata": {
    "ExecuteTime": {
     "end_time": "2024-11-16T20:45:34.324073Z",
     "start_time": "2024-11-16T20:45:34.292821Z"
    }
   },
   "cell_type": "code",
   "source": "test['Degree'].value_counts()",
   "id": "c8ff85f3bd110b52",
   "outputs": [
    {
     "data": {
      "text/plain": [
       "Class 12    9812\n",
       "B.Ed        7762\n",
       "B.Arch      6037\n",
       "B.Com       5439\n",
       "B.Pharm     3987\n",
       "            ... \n",
       "Bian           1\n",
       "Kavya          1\n",
       "M.M.Ed         1\n",
       "Vrinda         1\n",
       "BHCA           1\n",
       "Name: Degree, Length: 87, dtype: int64"
      ]
     },
     "execution_count": 24,
     "metadata": {},
     "output_type": "execute_result"
    }
   ],
   "execution_count": 24
  },
  {
   "metadata": {
    "ExecuteTime": {
     "end_time": "2024-11-16T20:45:00.489461Z",
     "start_time": "2024-11-16T20:45:00.372693Z"
    }
   },
   "cell_type": "code",
   "source": [
    "data['Dietary Habits'] = data['Dietary Habits'].fillna('Moderate')\n",
    "test['Dietary Habits'] = test['Dietary Habits'].fillna('Moderate')"
   ],
   "id": "32124fce1799129b",
   "outputs": [
    {
     "name": "stderr",
     "output_type": "stream",
     "text": [
      "C:\\Users\\hp\\AppData\\Local\\Temp\\ipykernel_8948\\2102067051.py:1: SettingWithCopyWarning: \n",
      "A value is trying to be set on a copy of a slice from a DataFrame.\n",
      "Try using .loc[row_indexer,col_indexer] = value instead\n",
      "\n",
      "See the caveats in the documentation: https://pandas.pydata.org/pandas-docs/stable/user_guide/indexing.html#returning-a-view-versus-a-copy\n",
      "  data['Dietary Habits'] = data['Dietary Habits'].fillna('Moderate')\n"
     ]
    }
   ],
   "execution_count": 22
  },
  {
   "metadata": {
    "ExecuteTime": {
     "end_time": "2024-11-16T20:46:29.548281Z",
     "start_time": "2024-11-16T20:46:29.454535Z"
    }
   },
   "cell_type": "code",
   "source": [
    "data['Degree'] = data['Degree'].fillna('Class 12')\n",
    "test['Degree'] = test['Degree'].fillna('Class 12')"
   ],
   "id": "74b6f612d18d9725",
   "outputs": [
    {
     "name": "stderr",
     "output_type": "stream",
     "text": [
      "C:\\Users\\hp\\AppData\\Local\\Temp\\ipykernel_8948\\2484084890.py:1: SettingWithCopyWarning: \n",
      "A value is trying to be set on a copy of a slice from a DataFrame.\n",
      "Try using .loc[row_indexer,col_indexer] = value instead\n",
      "\n",
      "See the caveats in the documentation: https://pandas.pydata.org/pandas-docs/stable/user_guide/indexing.html#returning-a-view-versus-a-copy\n",
      "  data['Degree'] = data['Degree'].fillna('Class 12')\n"
     ]
    }
   ],
   "execution_count": 25
  },
  {
   "metadata": {
    "ExecuteTime": {
     "end_time": "2024-11-16T20:52:57.615Z",
     "start_time": "2024-11-16T20:52:57.583750Z"
    }
   },
   "cell_type": "code",
   "source": [
    "data['Profession'].fillna('Student', inplace=True)\n",
    "test['Profession'].fillna('Student', inplace=True)"
   ],
   "id": "97c76436c1945384",
   "outputs": [
    {
     "name": "stderr",
     "output_type": "stream",
     "text": [
      "C:\\Users\\hp\\AppData\\Local\\Temp\\ipykernel_8948\\4238365911.py:1: SettingWithCopyWarning: \n",
      "A value is trying to be set on a copy of a slice from a DataFrame\n",
      "\n",
      "See the caveats in the documentation: https://pandas.pydata.org/pandas-docs/stable/user_guide/indexing.html#returning-a-view-versus-a-copy\n",
      "  data['Profession'].fillna('Student', inplace=True)\n"
     ]
    }
   ],
   "execution_count": 29
  },
  {
   "metadata": {
    "ExecuteTime": {
     "end_time": "2024-11-16T20:55:31.740552Z",
     "start_time": "2024-11-16T20:55:31.458161Z"
    }
   },
   "cell_type": "code",
   "source": [
    "for col in data.columns[:-1]:\n",
    "    data[col].fillna(0, inplace=True)\n",
    "    test[col].fillna(0, inplace=True)"
   ],
   "id": "86c69eb61625fbd7",
   "outputs": [
    {
     "name": "stderr",
     "output_type": "stream",
     "text": [
      "C:\\Users\\hp\\AppData\\Local\\Temp\\ipykernel_8948\\2707742535.py:2: SettingWithCopyWarning: \n",
      "A value is trying to be set on a copy of a slice from a DataFrame\n",
      "\n",
      "See the caveats in the documentation: https://pandas.pydata.org/pandas-docs/stable/user_guide/indexing.html#returning-a-view-versus-a-copy\n",
      "  data[col].fillna(0, inplace=True)\n"
     ]
    }
   ],
   "execution_count": 31
  },
  {
   "metadata": {},
   "cell_type": "markdown",
   "source": "## Categorical value",
   "id": "b0c38b7ffdaabb7"
  },
  {
   "metadata": {
    "ExecuteTime": {
     "end_time": "2024-11-16T20:58:29.402887Z",
     "start_time": "2024-11-16T20:58:29.327886Z"
    }
   },
   "cell_type": "code",
   "source": "data.groupby('Profession')['Degree'].unique()",
   "id": "7df857b6b9180d18",
   "outputs": [
    {
     "data": {
      "text/plain": [
       "Profession\n",
       "Academic                                  [M.Com, MCA, M.Tech, PhD, B.Ed]\n",
       "Accountant                    [B.Com, M.Com, BBA, MSc, BCA, MBA, ME, PhD]\n",
       "Analyst                                                             [MBA]\n",
       "Architect               [B.Arch, BSc, MCA, MSc, BCA, ME, BE, M.Tech, M...\n",
       "B.Com                                                             [B.Com]\n",
       "                                              ...                        \n",
       "Unveil                                                         [B.B.Arch]\n",
       "Visakhapatnam                                                       [BSc]\n",
       "Working Professional                                                [LLM]\n",
       "Yogesh                                                [M.Com, B.Ed, M.Ed]\n",
       "Yuvraj                                                              [MSc]\n",
       "Name: Degree, Length: 64, dtype: object"
      ]
     },
     "execution_count": 33,
     "metadata": {},
     "output_type": "execute_result"
    }
   ],
   "execution_count": 33
  },
  {
   "metadata": {
    "ExecuteTime": {
     "end_time": "2024-11-16T21:06:04.545617Z",
     "start_time": "2024-11-16T21:06:04.516618Z"
    }
   },
   "cell_type": "code",
   "source": [
    "res= \"\"\n",
    "for val in data['Degree'].unique():\n",
    "    res += val + \" | \"\n",
    "print(res)"
   ],
   "id": "606563ab9aea6f27",
   "outputs": [
    {
     "name": "stdout",
     "output_type": "stream",
     "text": [
      "BHM | LLB | B.Pharm | BBA | MCA | MD | BSc | ME | B.Arch | BCA | BE | MA | B.Ed | B.Com | MBA | M.Com | MHM | BA | Class 12 | M.Tech | PhD | M.Ed | MSc | B.Tech | LLM | MBBS | M.Pharm | UX/UI Designer | MPA | BH | Nalini | BEd | B.Sc | Veda | Bhopal | S.Tech | Degree | 20 | Class 11 | H_Pharm | M | P.Com | BPharm | Business Analyst | M.Arch | LL.Com | Data Scientist | MPharm | L.Ed | P.Pharm | Kalyan | Unite | BArch | HR Manager | Badhya | S.Pharm | LLBA | Vrinda | M. Business Analyst | Bhavesh | 0 | LLCom | 29 | MTech | Vivaan | BPA | Plumber | 5.61 | Brit | B.03 | Ritik | 5.56 | MEd | B | B BA | 7.06 | B.B.Arch | ACA | Brithika | CGPA | 24 | M_Tech | Pihu | BB | Jhanvi | LLTech | Aarav | Entrepreneur | 8.56 | LHM | Lata | S.Arch | Marsh | HCA | 5.88 | B.Student | LL B.Ed | M.S | Navya | Mahika | K.Ed | B.3.79 | Mthanya | Working Professional | Esha | LLS | LLEd | E.Tech | Doctor | N.Pharm | LCA | B B.Com | RCA | Mihir | Advait | \n"
     ]
    }
   ],
   "execution_count": 37
  },
  {
   "metadata": {
    "ExecuteTime": {
     "end_time": "2024-11-16T21:06:07.764539Z",
     "start_time": "2024-11-16T21:06:07.727549Z"
    }
   },
   "cell_type": "code",
   "source": [
    "res= \"\"\n",
    "for val in data['Profession'].unique():\n",
    "    res += val + \" | \"\n",
    "print(res)"
   ],
   "id": "24cdba6f2d5cd35a",
   "outputs": [
    {
     "name": "stdout",
     "output_type": "stream",
     "text": [
      "Chef | Teacher | Student | Business Analyst | Finanancial Analyst | Chemist | Electrician | Software Engineer | Data Scientist | Plumber | Marketing Manager | Accountant | Entrepreneur | HR Manager | UX/UI Designer | Content Writer | Educational Consultant | Civil Engineer | Manager | Pharmacist | Financial Analyst | Architect | Mechanical Engineer | Customer Support | Consultant | Judge | Researcher | Pilot | Graphic Designer | Travel Consultant | Digital Marketer | Lawyer | Research Analyst | Sales Executive | Doctor | Unemployed | Investment Banker | Family Consultant | B.Com | BE | Yogesh | Dev | MBA | LLM | BCA | Academic | Profession | FamilyVirar | City Manager | BBA | Medical Doctor | Working Professional | MBBS | Patna | Unveil | B.Ed | Nagpur | Moderate | M.Ed | Analyst | Pranav | Visakhapatnam | PhD | Yuvraj | \n"
     ]
    }
   ],
   "execution_count": 38
  },
  {
   "metadata": {
    "ExecuteTime": {
     "end_time": "2024-11-16T21:12:46.508808Z",
     "start_time": "2024-11-16T21:12:46.471811Z"
    }
   },
   "cell_type": "code",
   "source": [
    "degree_to_jobs = {\n",
    "    \"BHM\": [\"Chef\", \"Hotel Manager\", \"Travel Consultant\"],\n",
    "    \"LLB\": [\"Lawyer\", \"Judge\", \"Legal Consultant\"],\n",
    "    \"B.Pharm\": [\"Pharmacist\", \"Chemist\", \"Medical Consultant\"],\n",
    "    \"BBA\": [\"Marketing Manager\", \"HR Manager\", \"Business Analyst\"],\n",
    "    \"MCA\": [\"Software Engineer\", \"Data Scientist\", \"IT Consultant\"],\n",
    "    \"MD\": [\"Medical Doctor\", \"Family Consultant\", \"Researcher\"],\n",
    "    \"BSc\": [\"Researcher\", \"Teacher\", \"Content Writer\"],\n",
    "    \"ME\": [\"Mechanical Engineer\", \"Civil Engineer\", \"Manager\"],\n",
    "    \"B.Arch\": [\"Architect\", \"Interior Designer\", \"City Planner\"],\n",
    "    \"BCA\": [\"Software Engineer\", \"IT Support\", \"Web Developer\"],\n",
    "    \"BE\": [\"Civil Engineer\", \"Mechanical Engineer\", \"Electrical Engineer\"],\n",
    "    \"MA\": [\"Teacher\", \"Educational Consultant\", \"Content Writer\"],\n",
    "    \"B.Ed\": [\"Teacher\", \"Educational Consultant\", \"Academic\"],\n",
    "    \"B.Com\": [\"Accountant\", \"Financial Analyst\", \"Investment Banker\"],\n",
    "    \"MBA\": [\"Manager\", \"Marketing Manager\", \"HR Manager\"],\n",
    "    \"M.Com\": [\"Financial Analyst\", \"Accountant\", \"Investment Banker\"],\n",
    "    \"MHM\": [\"Hotel Manager\", \"Chef\", \"Travel Consultant\"],\n",
    "    \"BA\": [\"Content Writer\", \"Teacher\", \"Marketing Manager\"],\n",
    "    \"Class 12\": [\"Student\", \"Unemployed\", \"Working Professional\"],\n",
    "    \"M.Tech\": [\"Software Engineer\", \"Researcher\", \"Mechanical Engineer\"],\n",
    "    \"PhD\": [\"Researcher\", \"Professor\", \"Scientist\"],\n",
    "    \"M.Ed\": [\"Educational Consultant\", \"Teacher\", \"Academic\"],\n",
    "    \"MSc\": [\"Researcher\", \"Data Scientist\", \"Educational Consultant\"],\n",
    "    \"B.Tech\": [\"Software Engineer\", \"Mechanical Engineer\", \"Civil Engineer\"],\n",
    "    \"LLM\": [\"Lawyer\", \"Judge\", \"Legal Consultant\"],\n",
    "    \"MBBS\": [\"Medical Doctor\", \"Researcher\", \"Family Consultant\"],\n",
    "    \"M.Pharm\": [\"Pharmacist\", \"Researcher\", \"Medical Consultant\"],\n",
    "    \"UX/UI Designer\": [\"UX/UI Designer\", \"Graphic Designer\", \"Web Developer\"],\n",
    "    \"MPA\": [\"Manager\", \"Public Administrator\", \"Policy Analyst\"],\n",
    "    \"BH\": [\"Chef\", \"Hotel Manager\", \"Travel Consultant\"],\n",
    "    \"Nalini\": [],\n",
    "    \"BEd\": [\"Teacher\", \"Educational Consultant\", \"Academic\"],\n",
    "    \"B.Sc\": [\"Researcher\", \"Teacher\", \"Scientist\"],\n",
    "    \"Veda\": [],\n",
    "    \"Bhopal\": [],\n",
    "    \"S.Tech\": [],\n",
    "    \"Degree\": [],\n",
    "    \"20\": [],\n",
    "    \"Class 11\": [],\n",
    "    \"H_Pharm\": [],\n",
    "    \"M\": [],\n",
    "    \"P.Com\": [],\n",
    "    \"BPharm\": [\"Pharmacist\", \"Chemist\"],\n",
    "    \"Business Analyst\": [\"Business Analyst\", \"Marketing Manager\"],\n",
    "    \"M.Arch\": [\"Architect\", \"Interior Designer\"],\n",
    "    \"LL.Com\": [],\n",
    "    \"Data Scientist\": [\"Data Scientist\", \"Research Analyst\", \"Software Engineer\"],\n",
    "    \"MPharm\": [\"Pharmacist\", \"Medical Consultant\"],\n",
    "    \"L.Ed\": [],\n",
    "    \"P.Pharm\": [],\n",
    "    \"Kalyan\": [],\n",
    "    \"Unite\": [],\n",
    "    \"BArch\": [\"Architect\"],\n",
    "    \"HR Manager\": [\"HR Manager\", \"Recruiter\"],\n",
    "    \"Badhya\": [],\n",
    "    \"S.Pharm\": [],\n",
    "    \"LLBA\": [],\n",
    "    \"Vrinda\": [],\n",
    "    \"M. Business Analyst\": [\"Business Analyst\"],\n",
    "    \"Bhavesh\": [],\n",
    "    \"0\": [],\n",
    "    \"LLCom\": [],\n",
    "    \"29\": [],\n",
    "    \"MTech\": [\"Software Engineer\"],\n",
    "    \"Vivaan\": [],\n",
    "    \"BPA\": [],\n",
    "    \"Plumber\": [\"Plumber\", \"Electrician\"],\n",
    "    \"5.61\": [],\n",
    "    \"Brit\": [],\n",
    "    \"B.03\": [],\n",
    "    \"Ritik\": [],\n",
    "    \"5.56\": [],\n",
    "    \"MEd\": [\"Educational Consultant\"],\n",
    "    \"B\": [],\n",
    "    \"B BA\": [\"Business Analyst\"],\n",
    "    \"7.06\": [],\n",
    "    \"B.B.Arch\": [],\n",
    "    \"ACA\": [],\n",
    "    \"Brithika\": [],\n",
    "    \"CGPA\": [],\n",
    "    \"24\": [],\n",
    "    \"M_Tech\": [\"Software Engineer\"],\n",
    "    \"Pihu\": [],\n",
    "    \"BB\": [],\n",
    "    \"Jhanvi\": [],\n",
    "    \"LLTech\": [],\n",
    "    \"Aarav\": [],\n",
    "    \"Entrepreneur\": [\"Entrepreneur\", \"Business Consultant\"],\n",
    "    \"8.56\": [],\n",
    "    \"LHM\": [],\n",
    "    \"Lata\": [],\n",
    "    \"S.Arch\": [\"Architect\"],\n",
    "    \"Marsh\": [],\n",
    "    \"HCA\": [],\n",
    "    \"5.88\": [],\n",
    "    \"B.Student\": [],\n",
    "    \"LL B.Ed\": [],\n",
    "    \"M.S\": [],\n",
    "    \"Navya\": [],\n",
    "    \"Mahika\": [],\n",
    "    \"K.Ed\": [],\n",
    "    \"B.3.79\": [],\n",
    "    \"Mthanya\": [],\n",
    "    \"Working Professional\": [\"Manager\"],\n",
    "    \"Esha\": [],\n",
    "    \"LLS\": [],\n",
    "    \"LLEd\": [],\n",
    "    \"E.Tech\": [],\n",
    "    \"Doctor\": [\"Medical Doctor\", \"Researcher\"],\n",
    "    \"N.Pharm\": [],\n",
    "    \"LCA\": [],\n",
    "    \"B B.Com\": [\"Accountant\"],\n",
    "    \"RCA\": [],\n",
    "    \"Mihir\": [],\n",
    "    \"Advait\": [],\n",
    "}\n"
   ],
   "id": "fb59574b609dc183",
   "outputs": [],
   "execution_count": 39
  },
  {
   "metadata": {
    "ExecuteTime": {
     "end_time": "2024-11-16T21:19:05.929076Z",
     "start_time": "2024-11-16T21:19:02.658427Z"
    }
   },
   "cell_type": "code",
   "source": [
    "data['Is_Expected_Job'] = data.apply(lambda row: 1 if row['Profession'] in degree_to_jobs.get(row['Degree'], []) else 0, axis=1)\n",
    "test['Is_Expected_Job'] = test.apply(lambda row: 1 if row['Profession'] in degree_to_jobs.get(row['Degree'], []) else 0, axis=1)"
   ],
   "id": "6b7883d64b542fef",
   "outputs": [
    {
     "name": "stderr",
     "output_type": "stream",
     "text": [
      "C:\\Users\\hp\\AppData\\Local\\Temp\\ipykernel_8948\\1593355920.py:1: SettingWithCopyWarning: \n",
      "A value is trying to be set on a copy of a slice from a DataFrame.\n",
      "Try using .loc[row_indexer,col_indexer] = value instead\n",
      "\n",
      "See the caveats in the documentation: https://pandas.pydata.org/pandas-docs/stable/user_guide/indexing.html#returning-a-view-versus-a-copy\n",
      "  data['Is_Expected_Job'] = data.apply(lambda row: 1 if row['Profession'] in degree_to_jobs.get(row['Degree'], []) else 0, axis=1)\n"
     ]
    }
   ],
   "execution_count": 43
  },
  {
   "metadata": {
    "ExecuteTime": {
     "end_time": "2024-11-16T21:22:55.449160Z",
     "start_time": "2024-11-16T21:22:55.363157Z"
    }
   },
   "cell_type": "code",
   "source": [
    "data.drop(columns=['Name'], inplace=True)\n",
    "test.drop(columns=['Name'], inplace=True)"
   ],
   "id": "413d807e615d9202",
   "outputs": [
    {
     "name": "stderr",
     "output_type": "stream",
     "text": [
      "C:\\Users\\hp\\AppData\\Local\\Temp\\ipykernel_8948\\2789490796.py:1: SettingWithCopyWarning: \n",
      "A value is trying to be set on a copy of a slice from a DataFrame\n",
      "\n",
      "See the caveats in the documentation: https://pandas.pydata.org/pandas-docs/stable/user_guide/indexing.html#returning-a-view-versus-a-copy\n",
      "  data.drop(columns=['Name'], inplace=True)\n"
     ]
    }
   ],
   "execution_count": 44
  },
  {
   "metadata": {
    "ExecuteTime": {
     "end_time": "2024-11-16T21:25:46.604027Z",
     "start_time": "2024-11-16T21:25:46.526042Z"
    }
   },
   "cell_type": "code",
   "source": [
    "data['Gender'] = data['Gender'].map({'Male' : 0, 'Female' : 1})\n",
    "test['Gender'] = test['Gender'].map({'Male' : 0, 'Female' : 1})"
   ],
   "id": "3a976eb1b558b2f3",
   "outputs": [
    {
     "name": "stderr",
     "output_type": "stream",
     "text": [
      "C:\\Users\\hp\\AppData\\Local\\Temp\\ipykernel_8948\\2557774272.py:1: SettingWithCopyWarning: \n",
      "A value is trying to be set on a copy of a slice from a DataFrame.\n",
      "Try using .loc[row_indexer,col_indexer] = value instead\n",
      "\n",
      "See the caveats in the documentation: https://pandas.pydata.org/pandas-docs/stable/user_guide/indexing.html#returning-a-view-versus-a-copy\n",
      "  data['Gender'] = data['Gender'].map({'Male' : 0, 'Female' : 1})\n"
     ]
    }
   ],
   "execution_count": 47
  },
  {
   "metadata": {
    "ExecuteTime": {
     "end_time": "2024-11-16T21:27:08.729180Z",
     "start_time": "2024-11-16T21:27:08.633218Z"
    }
   },
   "cell_type": "code",
   "source": [
    "data['Working Professional or Student'] = data['Working Professional or Student'].map({'Working Professional': 1, 'Student' : 0})\n",
    "test['Working Professional or Student'] = test['Working Professional or Student'].map({'Working Professional': 1, 'Student' : 0})"
   ],
   "id": "4bad902a42787f05",
   "outputs": [
    {
     "name": "stderr",
     "output_type": "stream",
     "text": [
      "C:\\Users\\hp\\AppData\\Local\\Temp\\ipykernel_8948\\3184150634.py:1: SettingWithCopyWarning: \n",
      "A value is trying to be set on a copy of a slice from a DataFrame.\n",
      "Try using .loc[row_indexer,col_indexer] = value instead\n",
      "\n",
      "See the caveats in the documentation: https://pandas.pydata.org/pandas-docs/stable/user_guide/indexing.html#returning-a-view-versus-a-copy\n",
      "  data['Working Professional or Student'] = data['Working Professional or Student'].map({'Working Professional': 1, 'Student' : 0})\n"
     ]
    }
   ],
   "execution_count": 49
  },
  {
   "metadata": {
    "ExecuteTime": {
     "end_time": "2024-11-16T21:28:05.761196Z",
     "start_time": "2024-11-16T21:28:05.717198Z"
    }
   },
   "cell_type": "code",
   "source": "data['Dietary Habits'].value_counts()",
   "id": "4498ed1d2bc05213",
   "outputs": [
    {
     "data": {
      "text/plain": [
       "Moderate             49708\n",
       "Unhealthy            46226\n",
       "Healthy              44739\n",
       "Yes                      2\n",
       "No                       2\n",
       "More Healthy             2\n",
       "No Healthy               1\n",
       "Class 12                 1\n",
       "Indoor                   1\n",
       "Male                     1\n",
       "Vegas                    1\n",
       "M.Tech                   1\n",
       "Less Healthy             1\n",
       "1.0                      1\n",
       "Electrician              1\n",
       "Hormonal                 1\n",
       "Mihir                    1\n",
       "Less than Healthy        1\n",
       "3                        1\n",
       "Gender                   1\n",
       "BSc                      1\n",
       "Pratham                  1\n",
       "2                        1\n",
       "Name: Dietary Habits, dtype: int64"
      ]
     },
     "execution_count": 50,
     "metadata": {},
     "output_type": "execute_result"
    }
   ],
   "execution_count": 50
  },
  {
   "metadata": {
    "ExecuteTime": {
     "end_time": "2024-11-16T21:31:55.094586Z",
     "start_time": "2024-11-16T21:31:54.958589Z"
    }
   },
   "cell_type": "code",
   "source": [
    "data['Dietary Habits'] = data['Dietary Habits'].apply(lambda x: x if x in ['Moderate', 'Healthy', 'Unhealthy'] else 'Moderate')\n",
    "test['Dietary Habits'] = test['Dietary Habits'].apply(lambda x: x if x in ['Moderate', 'Healthy', 'Unhealthy'] else 'Moderate')\n",
    "test['Dietary Habits'].value_counts()"
   ],
   "id": "a6ec87b53d667bb7",
   "outputs": [
    {
     "name": "stderr",
     "output_type": "stream",
     "text": [
      "C:\\Users\\hp\\AppData\\Local\\Temp\\ipykernel_8948\\3790799406.py:1: SettingWithCopyWarning: \n",
      "A value is trying to be set on a copy of a slice from a DataFrame.\n",
      "Try using .loc[row_indexer,col_indexer] = value instead\n",
      "\n",
      "See the caveats in the documentation: https://pandas.pydata.org/pandas-docs/stable/user_guide/indexing.html#returning-a-view-versus-a-copy\n",
      "  data['Dietary Habits'] = data['Dietary Habits'].apply(lambda x: x if x in ['Moderate', 'Healthy', 'Unhealthy'] else 'Moderate')\n"
     ]
    },
    {
     "data": {
      "text/plain": [
       "Moderate     33048\n",
       "Unhealthy    30786\n",
       "Healthy      29966\n",
       "Name: Dietary Habits, dtype: int64"
      ]
     },
     "execution_count": 51,
     "metadata": {},
     "output_type": "execute_result"
    }
   ],
   "execution_count": 51
  },
  {
   "metadata": {
    "ExecuteTime": {
     "end_time": "2024-11-16T21:46:10.344445Z",
     "start_time": "2024-11-16T21:46:10.291445Z"
    }
   },
   "cell_type": "code",
   "source": [
    "data['Dietary Habits'] = data['Dietary Habits'].map({'Healthy' : 3, 'Moderate' : 2, 'Unhealthy' : 1})\n",
    "test['Dietary Habits'] = test['Dietary Habits'].map({'Healthy' : 3, 'Moderate' : 2, 'Unhealthy' : 1})"
   ],
   "id": "bacefc9e6a732609",
   "outputs": [
    {
     "name": "stderr",
     "output_type": "stream",
     "text": [
      "C:\\Users\\hp\\AppData\\Local\\Temp\\ipykernel_8948\\4047755041.py:1: SettingWithCopyWarning: \n",
      "A value is trying to be set on a copy of a slice from a DataFrame.\n",
      "Try using .loc[row_indexer,col_indexer] = value instead\n",
      "\n",
      "See the caveats in the documentation: https://pandas.pydata.org/pandas-docs/stable/user_guide/indexing.html#returning-a-view-versus-a-copy\n",
      "  data['Dietary Habits'] = data['Dietary Habits'].map({'Healthy' : 3, 'Moderate' : 2, 'Unhealthy' : 1})\n"
     ]
    }
   ],
   "execution_count": 62
  },
  {
   "metadata": {
    "ExecuteTime": {
     "end_time": "2024-11-16T21:33:09.056216Z",
     "start_time": "2024-11-16T21:33:09.025222Z"
    }
   },
   "cell_type": "code",
   "source": "data['Have you ever had suicidal thoughts ?'].unique()",
   "id": "2c86c5e897cbcffa",
   "outputs": [
    {
     "data": {
      "text/plain": [
       "array(['No', 'Yes'], dtype=object)"
      ]
     },
     "execution_count": 52,
     "metadata": {},
     "output_type": "execute_result"
    }
   ],
   "execution_count": 52
  },
  {
   "metadata": {
    "ExecuteTime": {
     "end_time": "2024-11-16T21:34:04.875500Z",
     "start_time": "2024-11-16T21:34:04.806506Z"
    }
   },
   "cell_type": "code",
   "source": [
    "data['Have you ever had suicidal thoughts ?'] = data['Have you ever had suicidal thoughts ?'].map({'No' : 0, 'Yes' : 1})\n",
    "test['Have you ever had suicidal thoughts ?'] = test['Have you ever had suicidal thoughts ?'].map({'No' : 0, 'Yes' : 1})"
   ],
   "id": "e307fd771f76c4b7",
   "outputs": [
    {
     "name": "stderr",
     "output_type": "stream",
     "text": [
      "C:\\Users\\hp\\AppData\\Local\\Temp\\ipykernel_8948\\3735583323.py:1: SettingWithCopyWarning: \n",
      "A value is trying to be set on a copy of a slice from a DataFrame.\n",
      "Try using .loc[row_indexer,col_indexer] = value instead\n",
      "\n",
      "See the caveats in the documentation: https://pandas.pydata.org/pandas-docs/stable/user_guide/indexing.html#returning-a-view-versus-a-copy\n",
      "  data['Have you ever had suicidal thoughts ?'] = data['Have you ever had suicidal thoughts ?'].map({'No' : 0, 'Yes' : 1})\n"
     ]
    }
   ],
   "execution_count": 53
  },
  {
   "metadata": {
    "ExecuteTime": {
     "end_time": "2024-11-16T21:34:41.683511Z",
     "start_time": "2024-11-16T21:34:41.657361Z"
    }
   },
   "cell_type": "code",
   "source": "data['Family History of Mental Illness'].unique()",
   "id": "b89b4a97f7ed7abd",
   "outputs": [
    {
     "data": {
      "text/plain": [
       "array(['No', 'Yes'], dtype=object)"
      ]
     },
     "execution_count": 54,
     "metadata": {},
     "output_type": "execute_result"
    }
   ],
   "execution_count": 54
  },
  {
   "metadata": {
    "ExecuteTime": {
     "end_time": "2024-11-16T21:35:04.370966Z",
     "start_time": "2024-11-16T21:35:04.299944Z"
    }
   },
   "cell_type": "code",
   "source": [
    "data['Family History of Mental Illness'] = data['Family History of Mental Illness'].map({'No' : 0, 'Yes' : 1})\n",
    "test['Family History of Mental Illness'] = test['Family History of Mental Illness'].map({'No' : 0, 'Yes' : 1})"
   ],
   "id": "dd7cf85c3fc448f2",
   "outputs": [
    {
     "name": "stderr",
     "output_type": "stream",
     "text": [
      "C:\\Users\\hp\\AppData\\Local\\Temp\\ipykernel_8948\\2603942843.py:1: SettingWithCopyWarning: \n",
      "A value is trying to be set on a copy of a slice from a DataFrame.\n",
      "Try using .loc[row_indexer,col_indexer] = value instead\n",
      "\n",
      "See the caveats in the documentation: https://pandas.pydata.org/pandas-docs/stable/user_guide/indexing.html#returning-a-view-versus-a-copy\n",
      "  data['Family History of Mental Illness'] = data['Family History of Mental Illness'].map({'No' : 0, 'Yes' : 1})\n"
     ]
    }
   ],
   "execution_count": 55
  },
  {
   "metadata": {
    "ExecuteTime": {
     "end_time": "2024-11-16T21:48:37.925329Z",
     "start_time": "2024-11-16T21:48:37.909712Z"
    }
   },
   "cell_type": "code",
   "source": "data.dtypes",
   "id": "ac1fc70498f028db",
   "outputs": [
    {
     "data": {
      "text/plain": [
       "id                                         int64\n",
       "Gender                                     int64\n",
       "Age                                      float64\n",
       "City                                      object\n",
       "Working Professional or Student            int64\n",
       "Profession                                object\n",
       "Academic Pressure                        float64\n",
       "Work Pressure                            float64\n",
       "CGPA                                     float64\n",
       "Study Satisfaction                       float64\n",
       "Job Satisfaction                         float64\n",
       "Sleep Duration                           float64\n",
       "Dietary Habits                             int64\n",
       "Degree                                    object\n",
       "Have you ever had suicidal thoughts ?      int64\n",
       "Work/Study Hours                         float64\n",
       "Financial Stress                         float64\n",
       "Family History of Mental Illness           int64\n",
       "Depression                                 int64\n",
       "Is_Expected_Job                            int64\n",
       "dtype: object"
      ]
     },
     "execution_count": 64,
     "metadata": {},
     "output_type": "execute_result"
    }
   ],
   "execution_count": 64
  },
  {
   "metadata": {
    "ExecuteTime": {
     "end_time": "2024-11-16T21:39:43.104791Z",
     "start_time": "2024-11-16T21:39:43.065806Z"
    }
   },
   "cell_type": "code",
   "source": "data['Sleep Duration'].value_counts()",
   "id": "59747e2d7067df7c",
   "outputs": [
    {
     "data": {
      "text/plain": [
       "Less than 5 hours    38783\n",
       "7-8 hours            36969\n",
       "More than 8 hours    32725\n",
       "5-6 hours            32140\n",
       "3-4 hours               12\n",
       "6-7 hours                8\n",
       "4-5 hours                7\n",
       "2-3 hours                5\n",
       "4-6 hours                5\n",
       "6-8 hours                4\n",
       "1-6 hours                4\n",
       "No                       4\n",
       "9-11 hours               2\n",
       "10-11 hours              2\n",
       "Sleep_Duration           2\n",
       "Unhealthy                2\n",
       "45                       2\n",
       "8-9 hours                2\n",
       "10-6 hours               1\n",
       "9-5                      1\n",
       "45-48 hours              1\n",
       "3-6 hours                1\n",
       "Work_Study_Hours         1\n",
       "49 hours                 1\n",
       "than 5 hours             1\n",
       "Pune                     1\n",
       "9-6 hours                1\n",
       "8 hours                  1\n",
       "35-36 hours              1\n",
       "Indore                   1\n",
       "1-3 hours                1\n",
       "55-66 hours              1\n",
       "Moderate                 1\n",
       "40-45 hours              1\n",
       "1-2 hours                1\n",
       "9-5 hours                1\n",
       "Name: Sleep Duration, dtype: int64"
      ]
     },
     "execution_count": 60,
     "metadata": {},
     "output_type": "execute_result"
    }
   ],
   "execution_count": 60
  },
  {
   "metadata": {
    "ExecuteTime": {
     "end_time": "2024-11-16T21:43:26.156824Z",
     "start_time": "2024-11-16T21:43:26.044835Z"
    }
   },
   "cell_type": "code",
   "source": [
    "data['Sleep Duration'] = data['Sleep Duration'].apply(lambda x: x if x in ['Less than 5 hours', '7-8 hours', 'More than 8 hours', '5-6 hours'] else '7-8 hours')\n",
    "test['Sleep Duration'] = test['Sleep Duration'].apply(lambda x: x if x in ['Less than 5 hours', '7-8 hours', 'More than 8 hours', '5-6 hours'] else '7-8 hours')\n",
    "test['Sleep Duration'].value_counts()"
   ],
   "id": "e7375938944108d1",
   "outputs": [
    {
     "name": "stderr",
     "output_type": "stream",
     "text": [
      "C:\\Users\\hp\\AppData\\Local\\Temp\\ipykernel_8948\\4022528517.py:1: SettingWithCopyWarning: \n",
      "A value is trying to be set on a copy of a slice from a DataFrame.\n",
      "Try using .loc[row_indexer,col_indexer] = value instead\n",
      "\n",
      "See the caveats in the documentation: https://pandas.pydata.org/pandas-docs/stable/user_guide/indexing.html#returning-a-view-versus-a-copy\n",
      "  data['Sleep Duration'] = data['Sleep Duration'].apply(lambda x: x if x in ['Less than 5 hours', '7-8 hours', 'More than 8 hours', '5-6 hours'] else '7-8 hours')\n"
     ]
    },
    {
     "data": {
      "text/plain": [
       "Less than 5 hours    25661\n",
       "7-8 hours            24545\n",
       "More than 8 hours    22190\n",
       "5-6 hours            21404\n",
       "Name: Sleep Duration, dtype: int64"
      ]
     },
     "execution_count": 61,
     "metadata": {},
     "output_type": "execute_result"
    }
   ],
   "execution_count": 61
  },
  {
   "metadata": {
    "ExecuteTime": {
     "end_time": "2024-11-16T21:47:46.769178Z",
     "start_time": "2024-11-16T21:47:46.705199Z"
    }
   },
   "cell_type": "code",
   "source": [
    "data['Sleep Duration'] = data['Sleep Duration'].map({'Less than 5 hours' : 4, '7-8 hours' : 7.5, 'More than 8 hours' : 9, '5-6 hours' : 5.5})\n",
    "test['Sleep Duration'] = test['Sleep Duration'].map({'Less than 5 hours' : 4, '7-8 hours' : 7.5, 'More than 8 hours' : 9, '5-6 hours' : 5.5})"
   ],
   "id": "f7c6dcd17a7580ea",
   "outputs": [
    {
     "name": "stderr",
     "output_type": "stream",
     "text": [
      "C:\\Users\\hp\\AppData\\Local\\Temp\\ipykernel_8948\\3695871191.py:1: SettingWithCopyWarning: \n",
      "A value is trying to be set on a copy of a slice from a DataFrame.\n",
      "Try using .loc[row_indexer,col_indexer] = value instead\n",
      "\n",
      "See the caveats in the documentation: https://pandas.pydata.org/pandas-docs/stable/user_guide/indexing.html#returning-a-view-versus-a-copy\n",
      "  data['Sleep Duration'] = data['Sleep Duration'].map({'Less than 5 hours' : 4, '7-8 hours' : 7.5, 'More than 8 hours' : 9, '5-6 hours' : 5.5})\n"
     ]
    }
   ],
   "execution_count": 63
  },
  {
   "metadata": {
    "ExecuteTime": {
     "end_time": "2024-11-16T21:50:07.844789Z",
     "start_time": "2024-11-16T21:50:04.670007Z"
    }
   },
   "cell_type": "code",
   "source": [
    "# data.to_csv('process_train.csv', index=False)\n",
    "# test.to_csv('process_test.csv', index=False)"
   ],
   "id": "f81aad2854ee82b6",
   "outputs": [],
   "execution_count": 65
  },
  {
   "metadata": {},
   "cell_type": "code",
   "outputs": [],
   "execution_count": null,
   "source": "",
   "id": "d279399253b47a09"
  }
 ],
 "metadata": {
  "kernelspec": {
   "display_name": "Python 3",
   "language": "python",
   "name": "python3"
  },
  "language_info": {
   "codemirror_mode": {
    "name": "ipython",
    "version": 2
   },
   "file_extension": ".py",
   "mimetype": "text/x-python",
   "name": "python",
   "nbconvert_exporter": "python",
   "pygments_lexer": "ipython2",
   "version": "2.7.6"
  }
 },
 "nbformat": 4,
 "nbformat_minor": 5
}
